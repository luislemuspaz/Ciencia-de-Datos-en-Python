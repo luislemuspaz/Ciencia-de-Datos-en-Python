{
  "nbformat": 4,
  "nbformat_minor": 0,
  "metadata": {
    "colab": {
      "name": "Introducción a Google Colab.ipynb",
      "provenance": [],
      "authorship_tag": "ABX9TyMvtr7BAk0Kgze3yjS8oSRh",
      "include_colab_link": true
    },
    "kernelspec": {
      "name": "python3",
      "display_name": "Python 3"
    }
  },
  "cells": [
    {
      "cell_type": "markdown",
      "metadata": {
        "id": "view-in-github",
        "colab_type": "text"
      },
      "source": [
        "<a href=\"https://colab.research.google.com/github/luislemuspaz/Ciencia-de-Datos-en-Python/blob/master/Introducci%C3%B3n_a_Google_Colab.ipynb\" target=\"_parent\"><img src=\"https://colab.research.google.com/assets/colab-badge.svg\" alt=\"Open In Colab\"/></a>"
      ]
    },
    {
      "cell_type": "markdown",
      "metadata": {
        "id": "SEicYYwGBRiR"
      },
      "source": [
        "**Introducción a Google Colab**"
      ]
    },
    {
      "cell_type": "markdown",
      "metadata": {
        "id": "0yxr-kXYBhSp"
      },
      "source": [
        "Esta es una introducción a Google Colab."
      ]
    },
    {
      "cell_type": "markdown",
      "metadata": {
        "id": "GgpoWR2jBo5x"
      },
      "source": [
        "Se pueden hacer listados:\r\n",
        "\r\n",
        "* Item 1\r\n",
        "* Item 2\r\n",
        "* Item 3\r\n",
        "* Item 4"
      ]
    },
    {
      "cell_type": "markdown",
      "metadata": {
        "id": "8dvvvOOTCbXE"
      },
      "source": [
        "$$\r\n",
        "\\int_0^\\infty x^2dx\r\n",
        "$$"
      ]
    }
  ]
}