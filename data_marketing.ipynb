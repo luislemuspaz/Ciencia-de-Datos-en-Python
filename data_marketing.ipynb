{
  "nbformat": 4,
  "nbformat_minor": 0,
  "metadata": {
    "colab": {
      "name": "data_marketing.ipynb",
      "provenance": [],
      "collapsed_sections": [],
      "toc_visible": true,
      "authorship_tag": "ABX9TyNzr5lwWfdNrlyUAiuHQYYU",
      "include_colab_link": true
    },
    "kernelspec": {
      "name": "python3",
      "display_name": "Python 3"
    }
  },
  "cells": [
    {
      "cell_type": "markdown",
      "metadata": {
        "id": "view-in-github",
        "colab_type": "text"
      },
      "source": [
        "<a href=\"https://colab.research.google.com/github/luislemuspaz/Ciencia-de-Datos-en-Python/blob/master/data_marketing.ipynb\" target=\"_parent\"><img src=\"https://colab.research.google.com/assets/colab-badge.svg\" alt=\"Open In Colab\"/></a>"
      ]
    },
    {
      "cell_type": "markdown",
      "metadata": {
        "id": "C9DiCjpBVSpX"
      },
      "source": [
        "### Data Marketing"
      ]
    },
    {
      "cell_type": "markdown",
      "metadata": {
        "id": "0iXgMp5EVPoe"
      },
      "source": [
        "Este conjunto de datos se extrajo de la plataforma de Kaggle y se proporcionó a estudiantes para un proyecto final con el fin de probar sus habilidades de análisis estadístico como parte de una maestría en Business Analytics. Se puede utilizar para EDA (análisis exploratorio de datos), análisis estadístico y visualizaciones. \n",
        "\n",
        "El conjunto de datos marketing_data.csv consta de 2240 clientes de la empresa XYZ con datos sobre perfiles de clientes, preferencias de producto, éxitos y fracasos de campaña y rendimiento de los canales."
      ]
    },
    {
      "cell_type": "code",
      "metadata": {
        "id": "KT6Y7EWKmP6R"
      },
      "source": [
        "import numpy as np\n",
        "import pandas as pd"
      ],
      "execution_count": 1,
      "outputs": []
    },
    {
      "cell_type": "code",
      "metadata": {
        "colab": {
          "base_uri": "https://localhost:8080/",
          "height": 224
        },
        "id": "UqmpCm6Jmifv",
        "outputId": "456ae08d-8fc7-4e76-cfcd-7a5843e235cb"
      },
      "source": [
        "url = (\"https://raw.githubusercontent.com/luislemuspaz/Ciencia-de-Datos-en-Python/master/marketing_data.csv\")\n",
        "df = pd.read_csv(url)\n",
        "df.head()"
      ],
      "execution_count": 2,
      "outputs": [
        {
          "output_type": "execute_result",
          "data": {
            "text/html": [
              "<div>\n",
              "<style scoped>\n",
              "    .dataframe tbody tr th:only-of-type {\n",
              "        vertical-align: middle;\n",
              "    }\n",
              "\n",
              "    .dataframe tbody tr th {\n",
              "        vertical-align: top;\n",
              "    }\n",
              "\n",
              "    .dataframe thead th {\n",
              "        text-align: right;\n",
              "    }\n",
              "</style>\n",
              "<table border=\"1\" class=\"dataframe\">\n",
              "  <thead>\n",
              "    <tr style=\"text-align: right;\">\n",
              "      <th></th>\n",
              "      <th>ID</th>\n",
              "      <th>Year_Birth</th>\n",
              "      <th>Education</th>\n",
              "      <th>Marital_Status</th>\n",
              "      <th>Income</th>\n",
              "      <th>Kidhome</th>\n",
              "      <th>Teenhome</th>\n",
              "      <th>Dt_Customer</th>\n",
              "      <th>Recency</th>\n",
              "      <th>MntWines</th>\n",
              "      <th>MntFruits</th>\n",
              "      <th>MntMeatProducts</th>\n",
              "      <th>MntFishProducts</th>\n",
              "      <th>MntSweetProducts</th>\n",
              "      <th>MntGoldProds</th>\n",
              "      <th>NumDealsPurchases</th>\n",
              "      <th>NumWebPurchases</th>\n",
              "      <th>NumCatalogPurchases</th>\n",
              "      <th>NumStorePurchases</th>\n",
              "      <th>NumWebVisitsMonth</th>\n",
              "      <th>AcceptedCmp3</th>\n",
              "      <th>AcceptedCmp4</th>\n",
              "      <th>AcceptedCmp5</th>\n",
              "      <th>AcceptedCmp1</th>\n",
              "      <th>AcceptedCmp2</th>\n",
              "      <th>Response</th>\n",
              "      <th>Complain</th>\n",
              "      <th>Country</th>\n",
              "    </tr>\n",
              "  </thead>\n",
              "  <tbody>\n",
              "    <tr>\n",
              "      <th>0</th>\n",
              "      <td>1826</td>\n",
              "      <td>1970</td>\n",
              "      <td>Graduation</td>\n",
              "      <td>Divorced</td>\n",
              "      <td>$84,835.00</td>\n",
              "      <td>0</td>\n",
              "      <td>0</td>\n",
              "      <td>6/16/14</td>\n",
              "      <td>0</td>\n",
              "      <td>189</td>\n",
              "      <td>104</td>\n",
              "      <td>379</td>\n",
              "      <td>111</td>\n",
              "      <td>189</td>\n",
              "      <td>218</td>\n",
              "      <td>1</td>\n",
              "      <td>4</td>\n",
              "      <td>4</td>\n",
              "      <td>6</td>\n",
              "      <td>1</td>\n",
              "      <td>0</td>\n",
              "      <td>0</td>\n",
              "      <td>0</td>\n",
              "      <td>0</td>\n",
              "      <td>0</td>\n",
              "      <td>1</td>\n",
              "      <td>0</td>\n",
              "      <td>SP</td>\n",
              "    </tr>\n",
              "    <tr>\n",
              "      <th>1</th>\n",
              "      <td>1</td>\n",
              "      <td>1961</td>\n",
              "      <td>Graduation</td>\n",
              "      <td>Single</td>\n",
              "      <td>$57,091.00</td>\n",
              "      <td>0</td>\n",
              "      <td>0</td>\n",
              "      <td>6/15/14</td>\n",
              "      <td>0</td>\n",
              "      <td>464</td>\n",
              "      <td>5</td>\n",
              "      <td>64</td>\n",
              "      <td>7</td>\n",
              "      <td>0</td>\n",
              "      <td>37</td>\n",
              "      <td>1</td>\n",
              "      <td>7</td>\n",
              "      <td>3</td>\n",
              "      <td>7</td>\n",
              "      <td>5</td>\n",
              "      <td>0</td>\n",
              "      <td>0</td>\n",
              "      <td>0</td>\n",
              "      <td>0</td>\n",
              "      <td>1</td>\n",
              "      <td>1</td>\n",
              "      <td>0</td>\n",
              "      <td>CA</td>\n",
              "    </tr>\n",
              "    <tr>\n",
              "      <th>2</th>\n",
              "      <td>10476</td>\n",
              "      <td>1958</td>\n",
              "      <td>Graduation</td>\n",
              "      <td>Married</td>\n",
              "      <td>$67,267.00</td>\n",
              "      <td>0</td>\n",
              "      <td>1</td>\n",
              "      <td>5/13/14</td>\n",
              "      <td>0</td>\n",
              "      <td>134</td>\n",
              "      <td>11</td>\n",
              "      <td>59</td>\n",
              "      <td>15</td>\n",
              "      <td>2</td>\n",
              "      <td>30</td>\n",
              "      <td>1</td>\n",
              "      <td>3</td>\n",
              "      <td>2</td>\n",
              "      <td>5</td>\n",
              "      <td>2</td>\n",
              "      <td>0</td>\n",
              "      <td>0</td>\n",
              "      <td>0</td>\n",
              "      <td>0</td>\n",
              "      <td>0</td>\n",
              "      <td>0</td>\n",
              "      <td>0</td>\n",
              "      <td>US</td>\n",
              "    </tr>\n",
              "    <tr>\n",
              "      <th>3</th>\n",
              "      <td>1386</td>\n",
              "      <td>1967</td>\n",
              "      <td>Graduation</td>\n",
              "      <td>Together</td>\n",
              "      <td>$32,474.00</td>\n",
              "      <td>1</td>\n",
              "      <td>1</td>\n",
              "      <td>05/11/2014</td>\n",
              "      <td>0</td>\n",
              "      <td>10</td>\n",
              "      <td>0</td>\n",
              "      <td>1</td>\n",
              "      <td>0</td>\n",
              "      <td>0</td>\n",
              "      <td>0</td>\n",
              "      <td>1</td>\n",
              "      <td>1</td>\n",
              "      <td>0</td>\n",
              "      <td>2</td>\n",
              "      <td>7</td>\n",
              "      <td>0</td>\n",
              "      <td>0</td>\n",
              "      <td>0</td>\n",
              "      <td>0</td>\n",
              "      <td>0</td>\n",
              "      <td>0</td>\n",
              "      <td>0</td>\n",
              "      <td>AUS</td>\n",
              "    </tr>\n",
              "    <tr>\n",
              "      <th>4</th>\n",
              "      <td>5371</td>\n",
              "      <td>1989</td>\n",
              "      <td>Graduation</td>\n",
              "      <td>Single</td>\n",
              "      <td>$21,474.00</td>\n",
              "      <td>1</td>\n",
              "      <td>0</td>\n",
              "      <td>04/08/2014</td>\n",
              "      <td>0</td>\n",
              "      <td>6</td>\n",
              "      <td>16</td>\n",
              "      <td>24</td>\n",
              "      <td>11</td>\n",
              "      <td>0</td>\n",
              "      <td>34</td>\n",
              "      <td>2</td>\n",
              "      <td>3</td>\n",
              "      <td>1</td>\n",
              "      <td>2</td>\n",
              "      <td>7</td>\n",
              "      <td>1</td>\n",
              "      <td>0</td>\n",
              "      <td>0</td>\n",
              "      <td>0</td>\n",
              "      <td>0</td>\n",
              "      <td>1</td>\n",
              "      <td>0</td>\n",
              "      <td>SP</td>\n",
              "    </tr>\n",
              "  </tbody>\n",
              "</table>\n",
              "</div>"
            ],
            "text/plain": [
              "      ID  Year_Birth   Education  ... Response Complain  Country\n",
              "0   1826        1970  Graduation  ...        1        0       SP\n",
              "1      1        1961  Graduation  ...        1        0       CA\n",
              "2  10476        1958  Graduation  ...        0        0       US\n",
              "3   1386        1967  Graduation  ...        0        0      AUS\n",
              "4   5371        1989  Graduation  ...        1        0       SP\n",
              "\n",
              "[5 rows x 28 columns]"
            ]
          },
          "metadata": {
            "tags": []
          },
          "execution_count": 2
        }
      ]
    },
    {
      "cell_type": "code",
      "metadata": {
        "colab": {
          "base_uri": "https://localhost:8080/"
        },
        "id": "x8xZb_2rtToG",
        "outputId": "04ef9471-e8b9-4673-e3e3-2bc63fb37fbd"
      },
      "source": [
        "df.shape"
      ],
      "execution_count": 3,
      "outputs": [
        {
          "output_type": "execute_result",
          "data": {
            "text/plain": [
              "(2240, 28)"
            ]
          },
          "metadata": {
            "tags": []
          },
          "execution_count": 3
        }
      ]
    },
    {
      "cell_type": "markdown",
      "metadata": {
        "id": "D1WJDiu2t-Kq"
      },
      "source": [
        "## Summarize Data Parte 2"
      ]
    },
    {
      "cell_type": "markdown",
      "metadata": {
        "id": "jB6LOvVcudLG"
      },
      "source": [
        "Compararemos a los clientes que aceptaron la oferta en la primera campaña con los que aceptaron la oferta en la sexta y última campaña."
      ]
    },
    {
      "cell_type": "code",
      "metadata": {
        "id": "v-Gd6_mcuGCP",
        "colab": {
          "base_uri": "https://localhost:8080/"
        },
        "outputId": "b5917f2b-fbc3-4e08-d0fb-e6159fa6ec4d"
      },
      "source": [
        "firstc = df[df[\"AcceptedCmp1\"] == 1]\n",
        "lastc = df[df[\"Response\"] == 1]\n",
        "print(firstc.shape, lastc.shape)"
      ],
      "execution_count": 4,
      "outputs": [
        {
          "output_type": "stream",
          "text": [
            "(144, 28) (334, 28)\n"
          ],
          "name": "stdout"
        }
      ]
    },
    {
      "cell_type": "code",
      "metadata": {
        "id": "YBGWsHIpFfLV"
      },
      "source": [
        "tc1 = ((firstc.shape[0] / df.shape[0])*100)"
      ],
      "execution_count": 5,
      "outputs": []
    },
    {
      "cell_type": "code",
      "metadata": {
        "id": "8tAZy55at_l5",
        "colab": {
          "base_uri": "https://localhost:8080/"
        },
        "outputId": "55373778-7ec1-4c42-9ac6-71fb19e80b49"
      },
      "source": [
        "print(\"La tasa de conversión en la primera campaña fue de \" + str(tc1) + \"%\")"
      ],
      "execution_count": 6,
      "outputs": [
        {
          "output_type": "stream",
          "text": [
            "La tasa de conversión en la primera campaña fue de 6.428571428571428%\n"
          ],
          "name": "stdout"
        }
      ]
    },
    {
      "cell_type": "code",
      "metadata": {
        "colab": {
          "base_uri": "https://localhost:8080/"
        },
        "id": "jZtZ8FMEwDd7",
        "outputId": "af379aec-8785-4288-c364-2aa8a27a6628"
      },
      "source": [
        "firstc.mean()"
      ],
      "execution_count": 7,
      "outputs": [
        {
          "output_type": "execute_result",
          "data": {
            "text/plain": [
              "ID                     5324.493056\n",
              "Year_Birth             1968.534722\n",
              "Kidhome                   0.090278\n",
              "Teenhome                  0.215278\n",
              "Recency                  46.979167\n",
              "MntWines                758.604167\n",
              "MntFruits                55.847222\n",
              "MntMeatProducts         433.638889\n",
              "MntFishProducts          91.861111\n",
              "MntSweetProducts         65.138889\n",
              "MntGoldProds             77.131944\n",
              "NumDealsPurchases         1.416667\n",
              "NumWebPurchases           5.729167\n",
              "NumCatalogPurchases       6.097222\n",
              "NumStorePurchases         8.062500\n",
              "NumWebVisitsMonth         3.534722\n",
              "AcceptedCmp3              0.166667\n",
              "AcceptedCmp4              0.326389\n",
              "AcceptedCmp5              0.472222\n",
              "AcceptedCmp1              1.000000\n",
              "AcceptedCmp2              0.090278\n",
              "Response                  0.548611\n",
              "Complain                  0.000000\n",
              "dtype: float64"
            ]
          },
          "metadata": {
            "tags": []
          },
          "execution_count": 7
        }
      ]
    },
    {
      "cell_type": "code",
      "metadata": {
        "id": "HcRX65C6tl7_",
        "colab": {
          "base_uri": "https://localhost:8080/"
        },
        "outputId": "3f576796-13e3-4417-920b-1b74f8c47d13"
      },
      "source": [
        "lastc.mean()"
      ],
      "execution_count": 8,
      "outputs": [
        {
          "output_type": "execute_result",
          "data": {
            "text/plain": [
              "ID                     5421.820359\n",
              "Year_Birth             1969.416168\n",
              "Kidhome                   0.341317\n",
              "Teenhome                  0.305389\n",
              "Recency                  35.383234\n",
              "MntWines                502.703593\n",
              "MntFruits                38.203593\n",
              "MntMeatProducts         294.353293\n",
              "MntFishProducts          52.050898\n",
              "MntSweetProducts         38.634731\n",
              "MntGoldProds             61.446108\n",
              "NumDealsPurchases         2.335329\n",
              "NumWebPurchases           5.071856\n",
              "NumCatalogPurchases       4.203593\n",
              "NumStorePurchases         6.095808\n",
              "NumWebVisitsMonth         5.293413\n",
              "AcceptedCmp3              0.230539\n",
              "AcceptedCmp4              0.185629\n",
              "AcceptedCmp5              0.275449\n",
              "AcceptedCmp1              0.236527\n",
              "AcceptedCmp2              0.059880\n",
              "Response                  1.000000\n",
              "Complain                  0.008982\n",
              "dtype: float64"
            ]
          },
          "metadata": {
            "tags": []
          },
          "execution_count": 8
        }
      ]
    },
    {
      "cell_type": "markdown",
      "metadata": {
        "id": "JzzNzfuzQfOb"
      },
      "source": [
        "***¿Quiénes son más jovenes?*** "
      ]
    },
    {
      "cell_type": "code",
      "metadata": {
        "colab": {
          "base_uri": "https://localhost:8080/"
        },
        "id": "M382WxbwQrcd",
        "outputId": "0d378ecc-742f-4edd-d4a5-0095ecd5efe6"
      },
      "source": [
        "print(firstc.mean()[1], lastc.mean()[1])"
      ],
      "execution_count": 9,
      "outputs": [
        {
          "output_type": "stream",
          "text": [
            "1968.5347222222222 1969.4161676646706\n"
          ],
          "name": "stdout"
        }
      ]
    },
    {
      "cell_type": "markdown",
      "metadata": {
        "id": "wfr3_BRTQ8P4"
      },
      "source": [
        "No existe una diferencia significativa, pero los que compraron en la última campaña son más jóvenes."
      ]
    },
    {
      "cell_type": "markdown",
      "metadata": {
        "id": "aQjsdSBxRPdK"
      },
      "source": [
        "***¿Qué cantidad de niños tienen en casa los dos grupos de clientes?*** "
      ]
    },
    {
      "cell_type": "code",
      "metadata": {
        "colab": {
          "base_uri": "https://localhost:8080/"
        },
        "id": "_CfUANAETp00",
        "outputId": "948a3229-f10d-497b-cb00-f78813e81d6c"
      },
      "source": [
        "print(firstc.mean()[2], lastc.mean()[2])"
      ],
      "execution_count": 10,
      "outputs": [
        {
          "output_type": "stream",
          "text": [
            "0.09027777777777778 0.3413173652694611\n"
          ],
          "name": "stdout"
        }
      ]
    },
    {
      "cell_type": "markdown",
      "metadata": {
        "id": "jxdTz_6vUhW5"
      },
      "source": [
        "Los clientes que respondieron en la primera campaña tienen menos niños en casa que el otro grupo de clientes."
      ]
    },
    {
      "cell_type": "markdown",
      "metadata": {
        "id": "BQyRoP3yT6jn"
      },
      "source": [
        "***Número de días desde la última compra***"
      ]
    },
    {
      "cell_type": "code",
      "metadata": {
        "colab": {
          "base_uri": "https://localhost:8080/"
        },
        "id": "m8n0wJ7HUBoq",
        "outputId": "3b5f7159-6e88-4ff5-8e94-e11bbe69b127"
      },
      "source": [
        "print(firstc.mean()[4], lastc.mean()[4])"
      ],
      "execution_count": 11,
      "outputs": [
        {
          "output_type": "stream",
          "text": [
            "46.979166666666664 35.383233532934135\n"
          ],
          "name": "stdout"
        }
      ]
    },
    {
      "cell_type": "markdown",
      "metadata": {
        "id": "nD8ljMXGUqo1"
      },
      "source": [
        "Los clientes que compraron en la última campaña tienen menos días de haber realizado la última compra."
      ]
    },
    {
      "cell_type": "markdown",
      "metadata": {
        "id": "epSEStIOVLh6"
      },
      "source": [
        "***¿Quiénes consumen más vino?***"
      ]
    },
    {
      "cell_type": "code",
      "metadata": {
        "colab": {
          "base_uri": "https://localhost:8080/"
        },
        "id": "_D3ELEv4RQAp",
        "outputId": "d59da74b-d943-4d72-e126-7db8edd6cdd0"
      },
      "source": [
        "print(firstc.mean()[5], lastc.mean()[5])"
      ],
      "execution_count": 12,
      "outputs": [
        {
          "output_type": "stream",
          "text": [
            "758.6041666666666 502.70359281437123\n"
          ],
          "name": "stdout"
        }
      ]
    },
    {
      "cell_type": "markdown",
      "metadata": {
        "id": "a8ZqwlW5VXxX"
      },
      "source": [
        "Los clientes que respondieron en la primera campaña consumen más vino que el otro grupo de clientes."
      ]
    },
    {
      "cell_type": "markdown",
      "metadata": {
        "id": "asDxmTEJYRy_"
      },
      "source": [
        "***¿Qué grupo de clientes ha tenido más reclamos?***"
      ]
    },
    {
      "cell_type": "code",
      "metadata": {
        "colab": {
          "base_uri": "https://localhost:8080/"
        },
        "id": "gNt581I3Ymnf",
        "outputId": "4b1c56c8-0a6c-4d4c-8fcb-a95767010d32"
      },
      "source": [
        "print(firstc.mean()[-1], lastc.mean()[-1])"
      ],
      "execution_count": 13,
      "outputs": [
        {
          "output_type": "stream",
          "text": [
            "0.0 0.008982035928143712\n"
          ],
          "name": "stdout"
        }
      ]
    },
    {
      "cell_type": "markdown",
      "metadata": {
        "id": "YvJA3yGeYzzZ"
      },
      "source": [
        "Los clientes que respondieron a la primera campaña no tienen ninguna reclamo."
      ]
    },
    {
      "cell_type": "markdown",
      "metadata": {
        "id": "hi7wPX3tVf5q"
      },
      "source": [
        "**Otras funciones resumidas**"
      ]
    },
    {
      "cell_type": "code",
      "metadata": {
        "id": "Od3vsIwhtmBn"
      },
      "source": [
        "std1 = firstc.std()\n",
        "std6 = lastc.std()"
      ],
      "execution_count": 14,
      "outputs": []
    },
    {
      "cell_type": "code",
      "metadata": {
        "id": "nmgCBS8Bmd3Q",
        "colab": {
          "base_uri": "https://localhost:8080/"
        },
        "outputId": "93f5b455-fc06-44e2-c910-9aa37916432f"
      },
      "source": [
        "print(\"El promedio de días desde la última compra para los clientes que compraron con la primera campaña son de \" + str(firstc.mean()[4]) + \" con una desviación de \" + str(std1[4]))"
      ],
      "execution_count": 15,
      "outputs": [
        {
          "output_type": "stream",
          "text": [
            "El promedio de días desde la última compra para los clientes que compraron con la primera campaña son de 46.979166666666664 con una desviación de 28.380646599374746\n"
          ],
          "name": "stdout"
        }
      ]
    },
    {
      "cell_type": "markdown",
      "metadata": {
        "id": "JxLf-5_iciva"
      },
      "source": [
        "***Recordemos que podemos utilizar la función \"describe\" para resumir los estadísticos de todas las variables***"
      ]
    },
    {
      "cell_type": "code",
      "metadata": {
        "colab": {
          "base_uri": "https://localhost:8080/",
          "height": 317
        },
        "id": "YTtlRayybdQ1",
        "outputId": "cab5525d-c794-4ab0-c1f0-28e7e61d4a3e"
      },
      "source": [
        "firstc.describe()"
      ],
      "execution_count": 16,
      "outputs": [
        {
          "output_type": "execute_result",
          "data": {
            "text/html": [
              "<div>\n",
              "<style scoped>\n",
              "    .dataframe tbody tr th:only-of-type {\n",
              "        vertical-align: middle;\n",
              "    }\n",
              "\n",
              "    .dataframe tbody tr th {\n",
              "        vertical-align: top;\n",
              "    }\n",
              "\n",
              "    .dataframe thead th {\n",
              "        text-align: right;\n",
              "    }\n",
              "</style>\n",
              "<table border=\"1\" class=\"dataframe\">\n",
              "  <thead>\n",
              "    <tr style=\"text-align: right;\">\n",
              "      <th></th>\n",
              "      <th>ID</th>\n",
              "      <th>Year_Birth</th>\n",
              "      <th>Kidhome</th>\n",
              "      <th>Teenhome</th>\n",
              "      <th>Recency</th>\n",
              "      <th>MntWines</th>\n",
              "      <th>MntFruits</th>\n",
              "      <th>MntMeatProducts</th>\n",
              "      <th>MntFishProducts</th>\n",
              "      <th>MntSweetProducts</th>\n",
              "      <th>MntGoldProds</th>\n",
              "      <th>NumDealsPurchases</th>\n",
              "      <th>NumWebPurchases</th>\n",
              "      <th>NumCatalogPurchases</th>\n",
              "      <th>NumStorePurchases</th>\n",
              "      <th>NumWebVisitsMonth</th>\n",
              "      <th>AcceptedCmp3</th>\n",
              "      <th>AcceptedCmp4</th>\n",
              "      <th>AcceptedCmp5</th>\n",
              "      <th>AcceptedCmp1</th>\n",
              "      <th>AcceptedCmp2</th>\n",
              "      <th>Response</th>\n",
              "      <th>Complain</th>\n",
              "    </tr>\n",
              "  </thead>\n",
              "  <tbody>\n",
              "    <tr>\n",
              "      <th>count</th>\n",
              "      <td>144.000000</td>\n",
              "      <td>144.000000</td>\n",
              "      <td>144.000000</td>\n",
              "      <td>144.000000</td>\n",
              "      <td>144.000000</td>\n",
              "      <td>144.000000</td>\n",
              "      <td>144.000000</td>\n",
              "      <td>144.000000</td>\n",
              "      <td>144.000000</td>\n",
              "      <td>144.000000</td>\n",
              "      <td>144.000000</td>\n",
              "      <td>144.000000</td>\n",
              "      <td>144.000000</td>\n",
              "      <td>144.000000</td>\n",
              "      <td>144.000000</td>\n",
              "      <td>144.000000</td>\n",
              "      <td>144.000000</td>\n",
              "      <td>144.000000</td>\n",
              "      <td>144.000000</td>\n",
              "      <td>144.0</td>\n",
              "      <td>144.000000</td>\n",
              "      <td>144.000000</td>\n",
              "      <td>144.0</td>\n",
              "    </tr>\n",
              "    <tr>\n",
              "      <th>mean</th>\n",
              "      <td>5324.493056</td>\n",
              "      <td>1968.534722</td>\n",
              "      <td>0.090278</td>\n",
              "      <td>0.215278</td>\n",
              "      <td>46.979167</td>\n",
              "      <td>758.604167</td>\n",
              "      <td>55.847222</td>\n",
              "      <td>433.638889</td>\n",
              "      <td>91.861111</td>\n",
              "      <td>65.138889</td>\n",
              "      <td>77.131944</td>\n",
              "      <td>1.416667</td>\n",
              "      <td>5.729167</td>\n",
              "      <td>6.097222</td>\n",
              "      <td>8.062500</td>\n",
              "      <td>3.534722</td>\n",
              "      <td>0.166667</td>\n",
              "      <td>0.326389</td>\n",
              "      <td>0.472222</td>\n",
              "      <td>1.0</td>\n",
              "      <td>0.090278</td>\n",
              "      <td>0.548611</td>\n",
              "      <td>0.0</td>\n",
              "    </tr>\n",
              "    <tr>\n",
              "      <th>std</th>\n",
              "      <td>3078.326355</td>\n",
              "      <td>13.530547</td>\n",
              "      <td>0.332677</td>\n",
              "      <td>0.445069</td>\n",
              "      <td>28.380647</td>\n",
              "      <td>333.571922</td>\n",
              "      <td>55.342079</td>\n",
              "      <td>263.292935</td>\n",
              "      <td>73.293892</td>\n",
              "      <td>54.960203</td>\n",
              "      <td>65.122289</td>\n",
              "      <td>1.371539</td>\n",
              "      <td>2.178146</td>\n",
              "      <td>2.517962</td>\n",
              "      <td>2.699958</td>\n",
              "      <td>2.044653</td>\n",
              "      <td>0.373979</td>\n",
              "      <td>0.470528</td>\n",
              "      <td>0.500970</td>\n",
              "      <td>0.0</td>\n",
              "      <td>0.287580</td>\n",
              "      <td>0.499368</td>\n",
              "      <td>0.0</td>\n",
              "    </tr>\n",
              "    <tr>\n",
              "      <th>min</th>\n",
              "      <td>146.000000</td>\n",
              "      <td>1944.000000</td>\n",
              "      <td>0.000000</td>\n",
              "      <td>0.000000</td>\n",
              "      <td>1.000000</td>\n",
              "      <td>152.000000</td>\n",
              "      <td>0.000000</td>\n",
              "      <td>21.000000</td>\n",
              "      <td>0.000000</td>\n",
              "      <td>0.000000</td>\n",
              "      <td>0.000000</td>\n",
              "      <td>0.000000</td>\n",
              "      <td>2.000000</td>\n",
              "      <td>1.000000</td>\n",
              "      <td>4.000000</td>\n",
              "      <td>1.000000</td>\n",
              "      <td>0.000000</td>\n",
              "      <td>0.000000</td>\n",
              "      <td>0.000000</td>\n",
              "      <td>1.0</td>\n",
              "      <td>0.000000</td>\n",
              "      <td>0.000000</td>\n",
              "      <td>0.0</td>\n",
              "    </tr>\n",
              "    <tr>\n",
              "      <th>25%</th>\n",
              "      <td>2793.750000</td>\n",
              "      <td>1957.000000</td>\n",
              "      <td>0.000000</td>\n",
              "      <td>0.000000</td>\n",
              "      <td>25.000000</td>\n",
              "      <td>502.000000</td>\n",
              "      <td>19.750000</td>\n",
              "      <td>196.000000</td>\n",
              "      <td>32.000000</td>\n",
              "      <td>22.750000</td>\n",
              "      <td>29.750000</td>\n",
              "      <td>1.000000</td>\n",
              "      <td>4.000000</td>\n",
              "      <td>4.000000</td>\n",
              "      <td>6.000000</td>\n",
              "      <td>2.000000</td>\n",
              "      <td>0.000000</td>\n",
              "      <td>0.000000</td>\n",
              "      <td>0.000000</td>\n",
              "      <td>1.0</td>\n",
              "      <td>0.000000</td>\n",
              "      <td>0.000000</td>\n",
              "      <td>0.0</td>\n",
              "    </tr>\n",
              "    <tr>\n",
              "      <th>50%</th>\n",
              "      <td>4901.500000</td>\n",
              "      <td>1969.500000</td>\n",
              "      <td>0.000000</td>\n",
              "      <td>0.000000</td>\n",
              "      <td>45.500000</td>\n",
              "      <td>761.500000</td>\n",
              "      <td>29.500000</td>\n",
              "      <td>437.500000</td>\n",
              "      <td>76.000000</td>\n",
              "      <td>46.500000</td>\n",
              "      <td>49.500000</td>\n",
              "      <td>1.000000</td>\n",
              "      <td>5.000000</td>\n",
              "      <td>6.000000</td>\n",
              "      <td>8.000000</td>\n",
              "      <td>3.000000</td>\n",
              "      <td>0.000000</td>\n",
              "      <td>0.000000</td>\n",
              "      <td>0.000000</td>\n",
              "      <td>1.0</td>\n",
              "      <td>0.000000</td>\n",
              "      <td>1.000000</td>\n",
              "      <td>0.0</td>\n",
              "    </tr>\n",
              "    <tr>\n",
              "      <th>75%</th>\n",
              "      <td>7896.750000</td>\n",
              "      <td>1979.000000</td>\n",
              "      <td>0.000000</td>\n",
              "      <td>0.000000</td>\n",
              "      <td>71.250000</td>\n",
              "      <td>1006.750000</td>\n",
              "      <td>87.750000</td>\n",
              "      <td>614.750000</td>\n",
              "      <td>146.250000</td>\n",
              "      <td>98.000000</td>\n",
              "      <td>112.500000</td>\n",
              "      <td>1.000000</td>\n",
              "      <td>7.000000</td>\n",
              "      <td>8.000000</td>\n",
              "      <td>10.000000</td>\n",
              "      <td>5.000000</td>\n",
              "      <td>0.000000</td>\n",
              "      <td>1.000000</td>\n",
              "      <td>1.000000</td>\n",
              "      <td>1.0</td>\n",
              "      <td>0.000000</td>\n",
              "      <td>1.000000</td>\n",
              "      <td>0.0</td>\n",
              "    </tr>\n",
              "    <tr>\n",
              "      <th>max</th>\n",
              "      <td>10965.000000</td>\n",
              "      <td>1994.000000</td>\n",
              "      <td>2.000000</td>\n",
              "      <td>2.000000</td>\n",
              "      <td>99.000000</td>\n",
              "      <td>1493.000000</td>\n",
              "      <td>190.000000</td>\n",
              "      <td>974.000000</td>\n",
              "      <td>253.000000</td>\n",
              "      <td>194.000000</td>\n",
              "      <td>245.000000</td>\n",
              "      <td>8.000000</td>\n",
              "      <td>11.000000</td>\n",
              "      <td>11.000000</td>\n",
              "      <td>13.000000</td>\n",
              "      <td>9.000000</td>\n",
              "      <td>1.000000</td>\n",
              "      <td>1.000000</td>\n",
              "      <td>1.000000</td>\n",
              "      <td>1.0</td>\n",
              "      <td>1.000000</td>\n",
              "      <td>1.000000</td>\n",
              "      <td>0.0</td>\n",
              "    </tr>\n",
              "  </tbody>\n",
              "</table>\n",
              "</div>"
            ],
            "text/plain": [
              "                 ID   Year_Birth  ...    Response  Complain\n",
              "count    144.000000   144.000000  ...  144.000000     144.0\n",
              "mean    5324.493056  1968.534722  ...    0.548611       0.0\n",
              "std     3078.326355    13.530547  ...    0.499368       0.0\n",
              "min      146.000000  1944.000000  ...    0.000000       0.0\n",
              "25%     2793.750000  1957.000000  ...    0.000000       0.0\n",
              "50%     4901.500000  1969.500000  ...    1.000000       0.0\n",
              "75%     7896.750000  1979.000000  ...    1.000000       0.0\n",
              "max    10965.000000  1994.000000  ...    1.000000       0.0\n",
              "\n",
              "[8 rows x 23 columns]"
            ]
          },
          "metadata": {
            "tags": []
          },
          "execution_count": 16
        }
      ]
    },
    {
      "cell_type": "markdown",
      "metadata": {
        "id": "clfvaYVOc3un"
      },
      "source": [
        "## Group Data - Educación"
      ]
    },
    {
      "cell_type": "code",
      "metadata": {
        "colab": {
          "base_uri": "https://localhost:8080/"
        },
        "id": "iTNv_Xxpf0Ti",
        "outputId": "66b6f59a-05a4-4331-accc-451fbbff57fe"
      },
      "source": [
        "df.groupby(by = \"Education\")[\"AcceptedCmp1\"].sum()"
      ],
      "execution_count": 17,
      "outputs": [
        {
          "output_type": "execute_result",
          "data": {
            "text/plain": [
              "Education\n",
              "2n Cycle      14\n",
              "Basic          0\n",
              "Graduation    82\n",
              "Master        18\n",
              "PhD           30\n",
              "Name: AcceptedCmp1, dtype: int64"
            ]
          },
          "metadata": {
            "tags": []
          },
          "execution_count": 17
        }
      ]
    },
    {
      "cell_type": "code",
      "metadata": {
        "colab": {
          "base_uri": "https://localhost:8080/"
        },
        "id": "q-ENonoAgJoU",
        "outputId": "19d7975b-8979-4a16-9d52-dbf52f0343cd"
      },
      "source": [
        "df.groupby(by = \"Education\")[\"AcceptedCmp1\"].count()"
      ],
      "execution_count": 18,
      "outputs": [
        {
          "output_type": "execute_result",
          "data": {
            "text/plain": [
              "Education\n",
              "2n Cycle       203\n",
              "Basic           54\n",
              "Graduation    1127\n",
              "Master         370\n",
              "PhD            486\n",
              "Name: AcceptedCmp1, dtype: int64"
            ]
          },
          "metadata": {
            "tags": []
          },
          "execution_count": 18
        }
      ]
    },
    {
      "cell_type": "code",
      "metadata": {
        "id": "i1jyutyTc7QH"
      },
      "source": [
        "conversions_by_edu = df.groupby(by = \"Education\")[\"AcceptedCmp1\"].sum() / df.groupby(by = \"Education\")[\"AcceptedCmp1\"].count() * 100"
      ],
      "execution_count": 19,
      "outputs": []
    },
    {
      "cell_type": "code",
      "metadata": {
        "id": "3RXMcLS_dWhI"
      },
      "source": [
        "conversions_by_edu = pd.DataFrame(conversions_by_edu)"
      ],
      "execution_count": 20,
      "outputs": []
    },
    {
      "cell_type": "code",
      "metadata": {
        "colab": {
          "base_uri": "https://localhost:8080/",
          "height": 235
        },
        "id": "850Bw7I4fsjq",
        "outputId": "fccba523-838c-4c00-e44c-d82eb8dc55e9"
      },
      "source": [
        "conversions_by_edu"
      ],
      "execution_count": 37,
      "outputs": [
        {
          "output_type": "execute_result",
          "data": {
            "text/html": [
              "<div>\n",
              "<style scoped>\n",
              "    .dataframe tbody tr th:only-of-type {\n",
              "        vertical-align: middle;\n",
              "    }\n",
              "\n",
              "    .dataframe tbody tr th {\n",
              "        vertical-align: top;\n",
              "    }\n",
              "\n",
              "    .dataframe thead th {\n",
              "        text-align: right;\n",
              "    }\n",
              "</style>\n",
              "<table border=\"1\" class=\"dataframe\">\n",
              "  <thead>\n",
              "    <tr style=\"text-align: right;\">\n",
              "      <th></th>\n",
              "      <th>AcceptedCmp1</th>\n",
              "    </tr>\n",
              "    <tr>\n",
              "      <th>Education</th>\n",
              "      <th></th>\n",
              "    </tr>\n",
              "  </thead>\n",
              "  <tbody>\n",
              "    <tr>\n",
              "      <th>2n Cycle</th>\n",
              "      <td>6.896552</td>\n",
              "    </tr>\n",
              "    <tr>\n",
              "      <th>Basic</th>\n",
              "      <td>0.000000</td>\n",
              "    </tr>\n",
              "    <tr>\n",
              "      <th>Graduation</th>\n",
              "      <td>7.275954</td>\n",
              "    </tr>\n",
              "    <tr>\n",
              "      <th>Master</th>\n",
              "      <td>4.864865</td>\n",
              "    </tr>\n",
              "    <tr>\n",
              "      <th>PhD</th>\n",
              "      <td>6.172840</td>\n",
              "    </tr>\n",
              "  </tbody>\n",
              "</table>\n",
              "</div>"
            ],
            "text/plain": [
              "            AcceptedCmp1\n",
              "Education               \n",
              "2n Cycle        6.896552\n",
              "Basic           0.000000\n",
              "Graduation      7.275954\n",
              "Master          4.864865\n",
              "PhD             6.172840"
            ]
          },
          "metadata": {
            "tags": []
          },
          "execution_count": 37
        }
      ]
    },
    {
      "cell_type": "code",
      "metadata": {
        "id": "aJOY3jzLXRXm"
      },
      "source": [
        "import matplotlib.pyplot as plt"
      ],
      "execution_count": 38,
      "outputs": []
    },
    {
      "cell_type": "code",
      "metadata": {
        "colab": {
          "base_uri": "https://localhost:8080/",
          "height": 504
        },
        "id": "Wh5lgEcvVzaz",
        "outputId": "6dbd2972-4a38-41f3-e648-b869a89449a5"
      },
      "source": [
        "axx = conversions_by_edu.loc[[\"Basic\", \"Master\", \"PhD\", \"2n Cycle\", \"Graduation\"]].plot(\n",
        "kind = \"bar\", color = \"green\", grid = True, figsize = (10, 7), title = \"Conversion Rates by Education\")\n",
        "axx.set_xlabel(\"Education\")\n",
        "axx.set_ylabel(\"conversion rate (%)\")\n",
        "plt.show()"
      ],
      "execution_count": 43,
      "outputs": [
        {
          "output_type": "display_data",
          "data": {
            "image/png": "[encoded data removed]",
            "text/plain": [
              "<Figure size 720x504 with 1 Axes>"
            ]
          },
          "metadata": {
            "tags": [],
            "needs_background": "light"
          }
        }
      ]
    },
    {
      "cell_type": "markdown",
      "metadata": {
        "id": "oZrPDmhSWhFZ"
      },
      "source": [
        "Existe una mayor conversión en la primera campaña con las personas Graduadas."
      ]
    },
    {
      "cell_type": "markdown",
      "metadata": {
        "id": "48wQdSPRX8fr"
      },
      "source": [
        "## Group Data - Reclamos"
      ]
    },
    {
      "cell_type": "code",
      "metadata": {
        "colab": {
          "base_uri": "https://localhost:8080/"
        },
        "id": "s_D9SQAzYERY",
        "outputId": "8d7914c9-fa02-45f8-9941-dfb50529e1b1"
      },
      "source": [
        "df.groupby(by = \"Complain\")[\"AcceptedCmp1\"].sum()"
      ],
      "execution_count": 22,
      "outputs": [
        {
          "output_type": "execute_result",
          "data": {
            "text/plain": [
              "Complain\n",
              "0    144\n",
              "1      0\n",
              "Name: AcceptedCmp1, dtype: int64"
            ]
          },
          "metadata": {
            "tags": []
          },
          "execution_count": 22
        }
      ]
    },
    {
      "cell_type": "code",
      "metadata": {
        "colab": {
          "base_uri": "https://localhost:8080/"
        },
        "id": "dNHZb3YwYggc",
        "outputId": "72b19d68-6707-4118-f023-bdd133fec8f1"
      },
      "source": [
        "df.groupby(by = \"Complain\")[\"AcceptedCmp1\"].count()"
      ],
      "execution_count": 23,
      "outputs": [
        {
          "output_type": "execute_result",
          "data": {
            "text/plain": [
              "Complain\n",
              "0    2219\n",
              "1      21\n",
              "Name: AcceptedCmp1, dtype: int64"
            ]
          },
          "metadata": {
            "tags": []
          },
          "execution_count": 23
        }
      ]
    },
    {
      "cell_type": "code",
      "metadata": {
        "id": "ElnhewA6Yihk"
      },
      "source": [
        "conversions_by_complain = df.groupby(by = \"Complain\")[\"AcceptedCmp1\"].sum() / df.groupby(by = \"Complain\")[\"AcceptedCmp1\"].count() * 100"
      ],
      "execution_count": 24,
      "outputs": []
    },
    {
      "cell_type": "code",
      "metadata": {
        "id": "Eo2l09bkYzvi"
      },
      "source": [
        "conversions_by_complain = pd.DataFrame(conversions_by_complain)"
      ],
      "execution_count": 25,
      "outputs": []
    },
    {
      "cell_type": "code",
      "metadata": {
        "colab": {
          "base_uri": "https://localhost:8080/",
          "height": 142
        },
        "id": "JI2AZJibY5p_",
        "outputId": "0119fe1e-8f8f-4d60-d164-cf5545103a6c"
      },
      "source": [
        "conversions_by_complain"
      ],
      "execution_count": 41,
      "outputs": [
        {
          "output_type": "execute_result",
          "data": {
            "text/html": [
              "<div>\n",
              "<style scoped>\n",
              "    .dataframe tbody tr th:only-of-type {\n",
              "        vertical-align: middle;\n",
              "    }\n",
              "\n",
              "    .dataframe tbody tr th {\n",
              "        vertical-align: top;\n",
              "    }\n",
              "\n",
              "    .dataframe thead th {\n",
              "        text-align: right;\n",
              "    }\n",
              "</style>\n",
              "<table border=\"1\" class=\"dataframe\">\n",
              "  <thead>\n",
              "    <tr style=\"text-align: right;\">\n",
              "      <th></th>\n",
              "      <th>AcceptedCmp1</th>\n",
              "    </tr>\n",
              "    <tr>\n",
              "      <th>Complain</th>\n",
              "      <th></th>\n",
              "    </tr>\n",
              "  </thead>\n",
              "  <tbody>\n",
              "    <tr>\n",
              "      <th>0</th>\n",
              "      <td>6.48941</td>\n",
              "    </tr>\n",
              "    <tr>\n",
              "      <th>1</th>\n",
              "      <td>0.00000</td>\n",
              "    </tr>\n",
              "  </tbody>\n",
              "</table>\n",
              "</div>"
            ],
            "text/plain": [
              "          AcceptedCmp1\n",
              "Complain              \n",
              "0              6.48941\n",
              "1              0.00000"
            ]
          },
          "metadata": {
            "tags": []
          },
          "execution_count": 41
        }
      ]
    },
    {
      "cell_type": "code",
      "metadata": {
        "colab": {
          "base_uri": "https://localhost:8080/",
          "height": 455
        },
        "id": "4n1lbs93Xhej",
        "outputId": "da1bd25c-72b5-4eef-d594-954d7cdb69b1"
      },
      "source": [
        "axy = conversions_by_complain.loc[[0, 1]].plot(\n",
        "kind = \"bar\", color = \"green\", grid = True, figsize = (10, 7), title = \"Conversion Rates by Complain\")\n",
        "axy.set_xlabel(\"Complain\")\n",
        "axy.set_ylabel(\"conversion rate (%)\")\n",
        "plt.show()"
      ],
      "execution_count": 45,
      "outputs": [
        {
          "output_type": "display_data",
          "data": {
            "image/png": "[encoded data removed]",
            "text/plain": [
              "<Figure size 720x504 with 1 Axes>"
            ]
          },
          "metadata": {
            "tags": [],
            "needs_background": "light"
          }
        }
      ]
    },
    {
      "cell_type": "markdown",
      "metadata": {
        "id": "yNbs7HQtZJWq"
      },
      "source": [
        "Con los dos últimos Group By podemos observar que para aumentar las probabilidades de que una persona compre el producto con la primera campaña será importante enfocarse en las que no tienen reclamos, en las que se hayan graduado, tengan PhD o estén en el segundo ciclo. Será importante no considerar a las personas con educación básica."
      ]
    },
    {
      "cell_type": "markdown",
      "metadata": {
        "id": "v4lAGJhoZzN1"
      },
      "source": [
        "## ¿Existen clientes que compraron en más de una campaña?"
      ]
    },
    {
      "cell_type": "code",
      "metadata": {
        "id": "ii_ah774bdA6"
      },
      "source": [
        "df[\"Compras Totales\"] = df.AcceptedCmp1 + df.AcceptedCmp2 + df.AcceptedCmp3 + df.AcceptedCmp4 + df.AcceptedCmp5 + df.Response"
      ],
      "execution_count": 27,
      "outputs": []
    },
    {
      "cell_type": "code",
      "metadata": {
        "colab": {
          "base_uri": "https://localhost:8080/",
          "height": 241
        },
        "id": "-DPJDFiPJAlG",
        "outputId": "8c6eb529-40f8-49f9-bedf-017ddc5fe0e1"
      },
      "source": [
        "df.head()"
      ],
      "execution_count": 28,
      "outputs": [
        {
          "output_type": "execute_result",
          "data": {
            "text/html": [
              "<div>\n",
              "<style scoped>\n",
              "    .dataframe tbody tr th:only-of-type {\n",
              "        vertical-align: middle;\n",
              "    }\n",
              "\n",
              "    .dataframe tbody tr th {\n",
              "        vertical-align: top;\n",
              "    }\n",
              "\n",
              "    .dataframe thead th {\n",
              "        text-align: right;\n",
              "    }\n",
              "</style>\n",
              "<table border=\"1\" class=\"dataframe\">\n",
              "  <thead>\n",
              "    <tr style=\"text-align: right;\">\n",
              "      <th></th>\n",
              "      <th>ID</th>\n",
              "      <th>Year_Birth</th>\n",
              "      <th>Education</th>\n",
              "      <th>Marital_Status</th>\n",
              "      <th>Income</th>\n",
              "      <th>Kidhome</th>\n",
              "      <th>Teenhome</th>\n",
              "      <th>Dt_Customer</th>\n",
              "      <th>Recency</th>\n",
              "      <th>MntWines</th>\n",
              "      <th>MntFruits</th>\n",
              "      <th>MntMeatProducts</th>\n",
              "      <th>MntFishProducts</th>\n",
              "      <th>MntSweetProducts</th>\n",
              "      <th>MntGoldProds</th>\n",
              "      <th>NumDealsPurchases</th>\n",
              "      <th>NumWebPurchases</th>\n",
              "      <th>NumCatalogPurchases</th>\n",
              "      <th>NumStorePurchases</th>\n",
              "      <th>NumWebVisitsMonth</th>\n",
              "      <th>AcceptedCmp3</th>\n",
              "      <th>AcceptedCmp4</th>\n",
              "      <th>AcceptedCmp5</th>\n",
              "      <th>AcceptedCmp1</th>\n",
              "      <th>AcceptedCmp2</th>\n",
              "      <th>Response</th>\n",
              "      <th>Complain</th>\n",
              "      <th>Country</th>\n",
              "      <th>Compras Totales</th>\n",
              "    </tr>\n",
              "  </thead>\n",
              "  <tbody>\n",
              "    <tr>\n",
              "      <th>0</th>\n",
              "      <td>1826</td>\n",
              "      <td>1970</td>\n",
              "      <td>Graduation</td>\n",
              "      <td>Divorced</td>\n",
              "      <td>$84,835.00</td>\n",
              "      <td>0</td>\n",
              "      <td>0</td>\n",
              "      <td>6/16/14</td>\n",
              "      <td>0</td>\n",
              "      <td>189</td>\n",
              "      <td>104</td>\n",
              "      <td>379</td>\n",
              "      <td>111</td>\n",
              "      <td>189</td>\n",
              "      <td>218</td>\n",
              "      <td>1</td>\n",
              "      <td>4</td>\n",
              "      <td>4</td>\n",
              "      <td>6</td>\n",
              "      <td>1</td>\n",
              "      <td>0</td>\n",
              "      <td>0</td>\n",
              "      <td>0</td>\n",
              "      <td>0</td>\n",
              "      <td>0</td>\n",
              "      <td>1</td>\n",
              "      <td>0</td>\n",
              "      <td>SP</td>\n",
              "      <td>1</td>\n",
              "    </tr>\n",
              "    <tr>\n",
              "      <th>1</th>\n",
              "      <td>1</td>\n",
              "      <td>1961</td>\n",
              "      <td>Graduation</td>\n",
              "      <td>Single</td>\n",
              "      <td>$57,091.00</td>\n",
              "      <td>0</td>\n",
              "      <td>0</td>\n",
              "      <td>6/15/14</td>\n",
              "      <td>0</td>\n",
              "      <td>464</td>\n",
              "      <td>5</td>\n",
              "      <td>64</td>\n",
              "      <td>7</td>\n",
              "      <td>0</td>\n",
              "      <td>37</td>\n",
              "      <td>1</td>\n",
              "      <td>7</td>\n",
              "      <td>3</td>\n",
              "      <td>7</td>\n",
              "      <td>5</td>\n",
              "      <td>0</td>\n",
              "      <td>0</td>\n",
              "      <td>0</td>\n",
              "      <td>0</td>\n",
              "      <td>1</td>\n",
              "      <td>1</td>\n",
              "      <td>0</td>\n",
              "      <td>CA</td>\n",
              "      <td>2</td>\n",
              "    </tr>\n",
              "    <tr>\n",
              "      <th>2</th>\n",
              "      <td>10476</td>\n",
              "      <td>1958</td>\n",
              "      <td>Graduation</td>\n",
              "      <td>Married</td>\n",
              "      <td>$67,267.00</td>\n",
              "      <td>0</td>\n",
              "      <td>1</td>\n",
              "      <td>5/13/14</td>\n",
              "      <td>0</td>\n",
              "      <td>134</td>\n",
              "      <td>11</td>\n",
              "      <td>59</td>\n",
              "      <td>15</td>\n",
              "      <td>2</td>\n",
              "      <td>30</td>\n",
              "      <td>1</td>\n",
              "      <td>3</td>\n",
              "      <td>2</td>\n",
              "      <td>5</td>\n",
              "      <td>2</td>\n",
              "      <td>0</td>\n",
              "      <td>0</td>\n",
              "      <td>0</td>\n",
              "      <td>0</td>\n",
              "      <td>0</td>\n",
              "      <td>0</td>\n",
              "      <td>0</td>\n",
              "      <td>US</td>\n",
              "      <td>0</td>\n",
              "    </tr>\n",
              "    <tr>\n",
              "      <th>3</th>\n",
              "      <td>1386</td>\n",
              "      <td>1967</td>\n",
              "      <td>Graduation</td>\n",
              "      <td>Together</td>\n",
              "      <td>$32,474.00</td>\n",
              "      <td>1</td>\n",
              "      <td>1</td>\n",
              "      <td>05/11/2014</td>\n",
              "      <td>0</td>\n",
              "      <td>10</td>\n",
              "      <td>0</td>\n",
              "      <td>1</td>\n",
              "      <td>0</td>\n",
              "      <td>0</td>\n",
              "      <td>0</td>\n",
              "      <td>1</td>\n",
              "      <td>1</td>\n",
              "      <td>0</td>\n",
              "      <td>2</td>\n",
              "      <td>7</td>\n",
              "      <td>0</td>\n",
              "      <td>0</td>\n",
              "      <td>0</td>\n",
              "      <td>0</td>\n",
              "      <td>0</td>\n",
              "      <td>0</td>\n",
              "      <td>0</td>\n",
              "      <td>AUS</td>\n",
              "      <td>0</td>\n",
              "    </tr>\n",
              "    <tr>\n",
              "      <th>4</th>\n",
              "      <td>5371</td>\n",
              "      <td>1989</td>\n",
              "      <td>Graduation</td>\n",
              "      <td>Single</td>\n",
              "      <td>$21,474.00</td>\n",
              "      <td>1</td>\n",
              "      <td>0</td>\n",
              "      <td>04/08/2014</td>\n",
              "      <td>0</td>\n",
              "      <td>6</td>\n",
              "      <td>16</td>\n",
              "      <td>24</td>\n",
              "      <td>11</td>\n",
              "      <td>0</td>\n",
              "      <td>34</td>\n",
              "      <td>2</td>\n",
              "      <td>3</td>\n",
              "      <td>1</td>\n",
              "      <td>2</td>\n",
              "      <td>7</td>\n",
              "      <td>1</td>\n",
              "      <td>0</td>\n",
              "      <td>0</td>\n",
              "      <td>0</td>\n",
              "      <td>0</td>\n",
              "      <td>1</td>\n",
              "      <td>0</td>\n",
              "      <td>SP</td>\n",
              "      <td>2</td>\n",
              "    </tr>\n",
              "  </tbody>\n",
              "</table>\n",
              "</div>"
            ],
            "text/plain": [
              "      ID  Year_Birth   Education  ... Complain Country  Compras Totales\n",
              "0   1826        1970  Graduation  ...        0      SP                1\n",
              "1      1        1961  Graduation  ...        0      CA                2\n",
              "2  10476        1958  Graduation  ...        0      US                0\n",
              "3   1386        1967  Graduation  ...        0     AUS                0\n",
              "4   5371        1989  Graduation  ...        0      SP                2\n",
              "\n",
              "[5 rows x 29 columns]"
            ]
          },
          "metadata": {
            "tags": []
          },
          "execution_count": 28
        }
      ]
    },
    {
      "cell_type": "code",
      "metadata": {
        "colab": {
          "base_uri": "https://localhost:8080/",
          "height": 282
        },
        "id": "fY1iFeEhJJGz",
        "outputId": "5b0d55be-fcf8-440e-83b3-ec14cb122d26"
      },
      "source": [
        "df[\"Compras Totales\"].plot.hist()"
      ],
      "execution_count": 29,
      "outputs": [
        {
          "output_type": "execute_result",
          "data": {
            "text/plain": [
              "<matplotlib.axes._subplots.AxesSubplot at 0x7faee5265b90>"
            ]
          },
          "metadata": {
            "tags": []
          },
          "execution_count": 29
        },
        {
          "output_type": "display_data",
          "data": {
            "image/png": "[encoded data removed]",
            "text/plain": [
              "<Figure size 432x288 with 1 Axes>"
            ]
          },
          "metadata": {
            "tags": [],
            "needs_background": "light"
          }
        }
      ]
    },
    {
      "cell_type": "code",
      "metadata": {
        "colab": {
          "base_uri": "https://localhost:8080/"
        },
        "id": "Ptea0_FQJwLM",
        "outputId": "01db9582-2223-4bca-deea-cb850c8c5ea1"
      },
      "source": [
        "df.groupby(by = \"Compras Totales\")[\"Compras Totales\"].count()"
      ],
      "execution_count": 30,
      "outputs": [
        {
          "output_type": "execute_result",
          "data": {
            "text/plain": [
              "Compras Totales\n",
              "0    1631\n",
              "1     370\n",
              "2     142\n",
              "3      51\n",
              "4      36\n",
              "5      10\n",
              "Name: Compras Totales, dtype: int64"
            ]
          },
          "metadata": {
            "tags": []
          },
          "execution_count": 30
        }
      ]
    },
    {
      "cell_type": "code",
      "metadata": {
        "id": "GmROpIGSOAtA"
      },
      "source": [
        "cinco_compras = df[df[\"Compras Totales\"] == 5]"
      ],
      "execution_count": 31,
      "outputs": []
    },
    {
      "cell_type": "code",
      "metadata": {
        "colab": {
          "base_uri": "https://localhost:8080/"
        },
        "id": "UwkQxkSVPHhB",
        "outputId": "6c2c1867-870a-4913-c35d-19a83446c662"
      },
      "source": [
        "cinco_compras.shape"
      ],
      "execution_count": 32,
      "outputs": [
        {
          "output_type": "execute_result",
          "data": {
            "text/plain": [
              "(10, 29)"
            ]
          },
          "metadata": {
            "tags": []
          },
          "execution_count": 32
        }
      ]
    },
    {
      "cell_type": "code",
      "metadata": {
        "colab": {
          "base_uri": "https://localhost:8080/",
          "height": 396
        },
        "id": "OMl_NcBBKuBu",
        "outputId": "8bb253f4-91a2-428d-d28d-469a7cf315bf"
      },
      "source": [
        "cinco_compras"
      ],
      "execution_count": 33,
      "outputs": [
        {
          "output_type": "execute_result",
          "data": {
            "text/html": [
              "<div>\n",
              "<style scoped>\n",
              "    .dataframe tbody tr th:only-of-type {\n",
              "        vertical-align: middle;\n",
              "    }\n",
              "\n",
              "    .dataframe tbody tr th {\n",
              "        vertical-align: top;\n",
              "    }\n",
              "\n",
              "    .dataframe thead th {\n",
              "        text-align: right;\n",
              "    }\n",
              "</style>\n",
              "<table border=\"1\" class=\"dataframe\">\n",
              "  <thead>\n",
              "    <tr style=\"text-align: right;\">\n",
              "      <th></th>\n",
              "      <th>ID</th>\n",
              "      <th>Year_Birth</th>\n",
              "      <th>Education</th>\n",
              "      <th>Marital_Status</th>\n",
              "      <th>Income</th>\n",
              "      <th>Kidhome</th>\n",
              "      <th>Teenhome</th>\n",
              "      <th>Dt_Customer</th>\n",
              "      <th>Recency</th>\n",
              "      <th>MntWines</th>\n",
              "      <th>MntFruits</th>\n",
              "      <th>MntMeatProducts</th>\n",
              "      <th>MntFishProducts</th>\n",
              "      <th>MntSweetProducts</th>\n",
              "      <th>MntGoldProds</th>\n",
              "      <th>NumDealsPurchases</th>\n",
              "      <th>NumWebPurchases</th>\n",
              "      <th>NumCatalogPurchases</th>\n",
              "      <th>NumStorePurchases</th>\n",
              "      <th>NumWebVisitsMonth</th>\n",
              "      <th>AcceptedCmp3</th>\n",
              "      <th>AcceptedCmp4</th>\n",
              "      <th>AcceptedCmp5</th>\n",
              "      <th>AcceptedCmp1</th>\n",
              "      <th>AcceptedCmp2</th>\n",
              "      <th>Response</th>\n",
              "      <th>Complain</th>\n",
              "      <th>Country</th>\n",
              "      <th>Compras Totales</th>\n",
              "    </tr>\n",
              "  </thead>\n",
              "  <tbody>\n",
              "    <tr>\n",
              "      <th>38</th>\n",
              "      <td>3725</td>\n",
              "      <td>1961</td>\n",
              "      <td>PhD</td>\n",
              "      <td>Single</td>\n",
              "      <td>$84,865.00</td>\n",
              "      <td>0</td>\n",
              "      <td>0</td>\n",
              "      <td>05/09/2013</td>\n",
              "      <td>1</td>\n",
              "      <td>1248</td>\n",
              "      <td>16</td>\n",
              "      <td>349</td>\n",
              "      <td>43</td>\n",
              "      <td>16</td>\n",
              "      <td>16</td>\n",
              "      <td>1</td>\n",
              "      <td>2</td>\n",
              "      <td>4</td>\n",
              "      <td>9</td>\n",
              "      <td>4</td>\n",
              "      <td>0</td>\n",
              "      <td>1</td>\n",
              "      <td>1</td>\n",
              "      <td>1</td>\n",
              "      <td>1</td>\n",
              "      <td>1</td>\n",
              "      <td>0</td>\n",
              "      <td>SP</td>\n",
              "      <td>5</td>\n",
              "    </tr>\n",
              "    <tr>\n",
              "      <th>142</th>\n",
              "      <td>10089</td>\n",
              "      <td>1974</td>\n",
              "      <td>Graduation</td>\n",
              "      <td>Divorced</td>\n",
              "      <td>$102,692.00</td>\n",
              "      <td>0</td>\n",
              "      <td>0</td>\n",
              "      <td>04/05/2013</td>\n",
              "      <td>5</td>\n",
              "      <td>168</td>\n",
              "      <td>148</td>\n",
              "      <td>444</td>\n",
              "      <td>32</td>\n",
              "      <td>172</td>\n",
              "      <td>148</td>\n",
              "      <td>1</td>\n",
              "      <td>6</td>\n",
              "      <td>9</td>\n",
              "      <td>13</td>\n",
              "      <td>2</td>\n",
              "      <td>0</td>\n",
              "      <td>1</td>\n",
              "      <td>1</td>\n",
              "      <td>1</td>\n",
              "      <td>1</td>\n",
              "      <td>1</td>\n",
              "      <td>0</td>\n",
              "      <td>SA</td>\n",
              "      <td>5</td>\n",
              "    </tr>\n",
              "    <tr>\n",
              "      <th>152</th>\n",
              "      <td>8545</td>\n",
              "      <td>1954</td>\n",
              "      <td>Graduation</td>\n",
              "      <td>Divorced</td>\n",
              "      <td>$85,683.00</td>\n",
              "      <td>0</td>\n",
              "      <td>0</td>\n",
              "      <td>3/21/14</td>\n",
              "      <td>6</td>\n",
              "      <td>1296</td>\n",
              "      <td>17</td>\n",
              "      <td>311</td>\n",
              "      <td>45</td>\n",
              "      <td>69</td>\n",
              "      <td>51</td>\n",
              "      <td>1</td>\n",
              "      <td>2</td>\n",
              "      <td>4</td>\n",
              "      <td>10</td>\n",
              "      <td>1</td>\n",
              "      <td>0</td>\n",
              "      <td>1</td>\n",
              "      <td>1</td>\n",
              "      <td>1</td>\n",
              "      <td>1</td>\n",
              "      <td>1</td>\n",
              "      <td>0</td>\n",
              "      <td>SP</td>\n",
              "      <td>5</td>\n",
              "    </tr>\n",
              "    <tr>\n",
              "      <th>522</th>\n",
              "      <td>5758</td>\n",
              "      <td>1982</td>\n",
              "      <td>Graduation</td>\n",
              "      <td>Married</td>\n",
              "      <td>$65,169.00</td>\n",
              "      <td>0</td>\n",
              "      <td>0</td>\n",
              "      <td>1/14/14</td>\n",
              "      <td>23</td>\n",
              "      <td>1074</td>\n",
              "      <td>0</td>\n",
              "      <td>69</td>\n",
              "      <td>0</td>\n",
              "      <td>0</td>\n",
              "      <td>46</td>\n",
              "      <td>1</td>\n",
              "      <td>10</td>\n",
              "      <td>4</td>\n",
              "      <td>13</td>\n",
              "      <td>6</td>\n",
              "      <td>1</td>\n",
              "      <td>0</td>\n",
              "      <td>1</td>\n",
              "      <td>1</td>\n",
              "      <td>1</td>\n",
              "      <td>1</td>\n",
              "      <td>0</td>\n",
              "      <td>SP</td>\n",
              "      <td>5</td>\n",
              "    </tr>\n",
              "    <tr>\n",
              "      <th>724</th>\n",
              "      <td>477</td>\n",
              "      <td>1986</td>\n",
              "      <td>Graduation</td>\n",
              "      <td>Married</td>\n",
              "      <td>$83,512.00</td>\n",
              "      <td>0</td>\n",
              "      <td>0</td>\n",
              "      <td>6/17/14</td>\n",
              "      <td>31</td>\n",
              "      <td>1060</td>\n",
              "      <td>61</td>\n",
              "      <td>835</td>\n",
              "      <td>80</td>\n",
              "      <td>20</td>\n",
              "      <td>101</td>\n",
              "      <td>1</td>\n",
              "      <td>4</td>\n",
              "      <td>7</td>\n",
              "      <td>10</td>\n",
              "      <td>1</td>\n",
              "      <td>1</td>\n",
              "      <td>0</td>\n",
              "      <td>1</td>\n",
              "      <td>1</td>\n",
              "      <td>1</td>\n",
              "      <td>1</td>\n",
              "      <td>0</td>\n",
              "      <td>SP</td>\n",
              "      <td>5</td>\n",
              "    </tr>\n",
              "    <tr>\n",
              "      <th>1385</th>\n",
              "      <td>3174</td>\n",
              "      <td>1959</td>\n",
              "      <td>Graduation</td>\n",
              "      <td>Together</td>\n",
              "      <td>$87,771.00</td>\n",
              "      <td>0</td>\n",
              "      <td>1</td>\n",
              "      <td>5/22/13</td>\n",
              "      <td>61</td>\n",
              "      <td>1492</td>\n",
              "      <td>38</td>\n",
              "      <td>287</td>\n",
              "      <td>50</td>\n",
              "      <td>57</td>\n",
              "      <td>33</td>\n",
              "      <td>1</td>\n",
              "      <td>5</td>\n",
              "      <td>10</td>\n",
              "      <td>4</td>\n",
              "      <td>6</td>\n",
              "      <td>0</td>\n",
              "      <td>1</td>\n",
              "      <td>1</td>\n",
              "      <td>1</td>\n",
              "      <td>1</td>\n",
              "      <td>1</td>\n",
              "      <td>0</td>\n",
              "      <td>SP</td>\n",
              "      <td>5</td>\n",
              "    </tr>\n",
              "    <tr>\n",
              "      <th>1386</th>\n",
              "      <td>5536</td>\n",
              "      <td>1959</td>\n",
              "      <td>Graduation</td>\n",
              "      <td>Together</td>\n",
              "      <td>$87,771.00</td>\n",
              "      <td>0</td>\n",
              "      <td>1</td>\n",
              "      <td>5/22/13</td>\n",
              "      <td>61</td>\n",
              "      <td>1492</td>\n",
              "      <td>38</td>\n",
              "      <td>287</td>\n",
              "      <td>50</td>\n",
              "      <td>57</td>\n",
              "      <td>33</td>\n",
              "      <td>1</td>\n",
              "      <td>5</td>\n",
              "      <td>10</td>\n",
              "      <td>4</td>\n",
              "      <td>6</td>\n",
              "      <td>0</td>\n",
              "      <td>1</td>\n",
              "      <td>1</td>\n",
              "      <td>1</td>\n",
              "      <td>1</td>\n",
              "      <td>1</td>\n",
              "      <td>0</td>\n",
              "      <td>CA</td>\n",
              "      <td>5</td>\n",
              "    </tr>\n",
              "    <tr>\n",
              "      <th>1813</th>\n",
              "      <td>1509</td>\n",
              "      <td>1958</td>\n",
              "      <td>PhD</td>\n",
              "      <td>Together</td>\n",
              "      <td>$84,460.00</td>\n",
              "      <td>0</td>\n",
              "      <td>0</td>\n",
              "      <td>01/04/2013</td>\n",
              "      <td>80</td>\n",
              "      <td>152</td>\n",
              "      <td>27</td>\n",
              "      <td>103</td>\n",
              "      <td>106</td>\n",
              "      <td>54</td>\n",
              "      <td>81</td>\n",
              "      <td>0</td>\n",
              "      <td>9</td>\n",
              "      <td>9</td>\n",
              "      <td>4</td>\n",
              "      <td>5</td>\n",
              "      <td>0</td>\n",
              "      <td>1</td>\n",
              "      <td>1</td>\n",
              "      <td>1</td>\n",
              "      <td>1</td>\n",
              "      <td>1</td>\n",
              "      <td>0</td>\n",
              "      <td>SP</td>\n",
              "      <td>5</td>\n",
              "    </tr>\n",
              "    <tr>\n",
              "      <th>1913</th>\n",
              "      <td>3138</td>\n",
              "      <td>1956</td>\n",
              "      <td>Graduation</td>\n",
              "      <td>Single</td>\n",
              "      <td>$91,249.00</td>\n",
              "      <td>0</td>\n",
              "      <td>0</td>\n",
              "      <td>10/20/12</td>\n",
              "      <td>84</td>\n",
              "      <td>1324</td>\n",
              "      <td>27</td>\n",
              "      <td>119</td>\n",
              "      <td>71</td>\n",
              "      <td>108</td>\n",
              "      <td>27</td>\n",
              "      <td>0</td>\n",
              "      <td>7</td>\n",
              "      <td>9</td>\n",
              "      <td>6</td>\n",
              "      <td>4</td>\n",
              "      <td>0</td>\n",
              "      <td>1</td>\n",
              "      <td>1</td>\n",
              "      <td>1</td>\n",
              "      <td>1</td>\n",
              "      <td>1</td>\n",
              "      <td>0</td>\n",
              "      <td>SP</td>\n",
              "      <td>5</td>\n",
              "    </tr>\n",
              "    <tr>\n",
              "      <th>2125</th>\n",
              "      <td>3520</td>\n",
              "      <td>1990</td>\n",
              "      <td>Master</td>\n",
              "      <td>Single</td>\n",
              "      <td>$91,172.00</td>\n",
              "      <td>0</td>\n",
              "      <td>0</td>\n",
              "      <td>3/27/13</td>\n",
              "      <td>94</td>\n",
              "      <td>162</td>\n",
              "      <td>28</td>\n",
              "      <td>818</td>\n",
              "      <td>0</td>\n",
              "      <td>28</td>\n",
              "      <td>56</td>\n",
              "      <td>0</td>\n",
              "      <td>4</td>\n",
              "      <td>3</td>\n",
              "      <td>7</td>\n",
              "      <td>3</td>\n",
              "      <td>1</td>\n",
              "      <td>0</td>\n",
              "      <td>1</td>\n",
              "      <td>1</td>\n",
              "      <td>1</td>\n",
              "      <td>1</td>\n",
              "      <td>0</td>\n",
              "      <td>CA</td>\n",
              "      <td>5</td>\n",
              "    </tr>\n",
              "  </tbody>\n",
              "</table>\n",
              "</div>"
            ],
            "text/plain": [
              "         ID  Year_Birth   Education  ... Complain Country  Compras Totales\n",
              "38     3725        1961         PhD  ...        0      SP                5\n",
              "142   10089        1974  Graduation  ...        0      SA                5\n",
              "152    8545        1954  Graduation  ...        0      SP                5\n",
              "522    5758        1982  Graduation  ...        0      SP                5\n",
              "724     477        1986  Graduation  ...        0      SP                5\n",
              "1385   3174        1959  Graduation  ...        0      SP                5\n",
              "1386   5536        1959  Graduation  ...        0      CA                5\n",
              "1813   1509        1958         PhD  ...        0      SP                5\n",
              "1913   3138        1956  Graduation  ...        0      SP                5\n",
              "2125   3520        1990      Master  ...        0      CA                5\n",
              "\n",
              "[10 rows x 29 columns]"
            ]
          },
          "metadata": {
            "tags": []
          },
          "execution_count": 33
        }
      ]
    },
    {
      "cell_type": "code",
      "metadata": {
        "colab": {
          "base_uri": "https://localhost:8080/",
          "height": 334
        },
        "id": "-bBNz8InSa0v",
        "outputId": "ee026a3d-7219-49ff-f3f1-574888e74b31"
      },
      "source": [
        "cinco_compras.describe()"
      ],
      "execution_count": 34,
      "outputs": [
        {
          "output_type": "execute_result",
          "data": {
            "text/html": [
              "<div>\n",
              "<style scoped>\n",
              "    .dataframe tbody tr th:only-of-type {\n",
              "        vertical-align: middle;\n",
              "    }\n",
              "\n",
              "    .dataframe tbody tr th {\n",
              "        vertical-align: top;\n",
              "    }\n",
              "\n",
              "    .dataframe thead th {\n",
              "        text-align: right;\n",
              "    }\n",
              "</style>\n",
              "<table border=\"1\" class=\"dataframe\">\n",
              "  <thead>\n",
              "    <tr style=\"text-align: right;\">\n",
              "      <th></th>\n",
              "      <th>ID</th>\n",
              "      <th>Year_Birth</th>\n",
              "      <th>Kidhome</th>\n",
              "      <th>Teenhome</th>\n",
              "      <th>Recency</th>\n",
              "      <th>MntWines</th>\n",
              "      <th>MntFruits</th>\n",
              "      <th>MntMeatProducts</th>\n",
              "      <th>MntFishProducts</th>\n",
              "      <th>MntSweetProducts</th>\n",
              "      <th>MntGoldProds</th>\n",
              "      <th>NumDealsPurchases</th>\n",
              "      <th>NumWebPurchases</th>\n",
              "      <th>NumCatalogPurchases</th>\n",
              "      <th>NumStorePurchases</th>\n",
              "      <th>NumWebVisitsMonth</th>\n",
              "      <th>AcceptedCmp3</th>\n",
              "      <th>AcceptedCmp4</th>\n",
              "      <th>AcceptedCmp5</th>\n",
              "      <th>AcceptedCmp1</th>\n",
              "      <th>AcceptedCmp2</th>\n",
              "      <th>Response</th>\n",
              "      <th>Complain</th>\n",
              "      <th>Compras Totales</th>\n",
              "    </tr>\n",
              "  </thead>\n",
              "  <tbody>\n",
              "    <tr>\n",
              "      <th>count</th>\n",
              "      <td>10.000000</td>\n",
              "      <td>10.000000</td>\n",
              "      <td>10.0</td>\n",
              "      <td>10.000000</td>\n",
              "      <td>10.000000</td>\n",
              "      <td>10.000000</td>\n",
              "      <td>10.000000</td>\n",
              "      <td>10.000000</td>\n",
              "      <td>10.000000</td>\n",
              "      <td>10.000000</td>\n",
              "      <td>10.000000</td>\n",
              "      <td>10.000000</td>\n",
              "      <td>10.000000</td>\n",
              "      <td>10.00000</td>\n",
              "      <td>10.000000</td>\n",
              "      <td>10.000000</td>\n",
              "      <td>10.000000</td>\n",
              "      <td>10.000000</td>\n",
              "      <td>10.0</td>\n",
              "      <td>10.0</td>\n",
              "      <td>10.0</td>\n",
              "      <td>10.0</td>\n",
              "      <td>10.0</td>\n",
              "      <td>10.0</td>\n",
              "    </tr>\n",
              "    <tr>\n",
              "      <th>mean</th>\n",
              "      <td>4547.100000</td>\n",
              "      <td>1967.900000</td>\n",
              "      <td>0.0</td>\n",
              "      <td>0.200000</td>\n",
              "      <td>44.600000</td>\n",
              "      <td>946.800000</td>\n",
              "      <td>40.000000</td>\n",
              "      <td>362.200000</td>\n",
              "      <td>47.700000</td>\n",
              "      <td>58.100000</td>\n",
              "      <td>59.200000</td>\n",
              "      <td>0.700000</td>\n",
              "      <td>5.400000</td>\n",
              "      <td>6.90000</td>\n",
              "      <td>8.000000</td>\n",
              "      <td>3.800000</td>\n",
              "      <td>0.300000</td>\n",
              "      <td>0.700000</td>\n",
              "      <td>1.0</td>\n",
              "      <td>1.0</td>\n",
              "      <td>1.0</td>\n",
              "      <td>1.0</td>\n",
              "      <td>0.0</td>\n",
              "      <td>5.0</td>\n",
              "    </tr>\n",
              "    <tr>\n",
              "      <th>std</th>\n",
              "      <td>2991.424352</td>\n",
              "      <td>13.706851</td>\n",
              "      <td>0.0</td>\n",
              "      <td>0.421637</td>\n",
              "      <td>35.581518</td>\n",
              "      <td>561.007982</td>\n",
              "      <td>41.231056</td>\n",
              "      <td>271.699916</td>\n",
              "      <td>33.035503</td>\n",
              "      <td>50.669846</td>\n",
              "      <td>40.325895</td>\n",
              "      <td>0.483046</td>\n",
              "      <td>2.674987</td>\n",
              "      <td>2.84605</td>\n",
              "      <td>3.527668</td>\n",
              "      <td>1.988858</td>\n",
              "      <td>0.483046</td>\n",
              "      <td>0.483046</td>\n",
              "      <td>0.0</td>\n",
              "      <td>0.0</td>\n",
              "      <td>0.0</td>\n",
              "      <td>0.0</td>\n",
              "      <td>0.0</td>\n",
              "      <td>0.0</td>\n",
              "    </tr>\n",
              "    <tr>\n",
              "      <th>min</th>\n",
              "      <td>477.000000</td>\n",
              "      <td>1954.000000</td>\n",
              "      <td>0.0</td>\n",
              "      <td>0.000000</td>\n",
              "      <td>1.000000</td>\n",
              "      <td>152.000000</td>\n",
              "      <td>0.000000</td>\n",
              "      <td>69.000000</td>\n",
              "      <td>0.000000</td>\n",
              "      <td>0.000000</td>\n",
              "      <td>16.000000</td>\n",
              "      <td>0.000000</td>\n",
              "      <td>2.000000</td>\n",
              "      <td>3.00000</td>\n",
              "      <td>4.000000</td>\n",
              "      <td>1.000000</td>\n",
              "      <td>0.000000</td>\n",
              "      <td>0.000000</td>\n",
              "      <td>1.0</td>\n",
              "      <td>1.0</td>\n",
              "      <td>1.0</td>\n",
              "      <td>1.0</td>\n",
              "      <td>0.0</td>\n",
              "      <td>5.0</td>\n",
              "    </tr>\n",
              "    <tr>\n",
              "      <th>25%</th>\n",
              "      <td>3147.000000</td>\n",
              "      <td>1958.250000</td>\n",
              "      <td>0.0</td>\n",
              "      <td>0.000000</td>\n",
              "      <td>10.250000</td>\n",
              "      <td>391.000000</td>\n",
              "      <td>19.500000</td>\n",
              "      <td>161.000000</td>\n",
              "      <td>34.750000</td>\n",
              "      <td>22.000000</td>\n",
              "      <td>33.000000</td>\n",
              "      <td>0.250000</td>\n",
              "      <td>4.000000</td>\n",
              "      <td>4.00000</td>\n",
              "      <td>4.500000</td>\n",
              "      <td>2.250000</td>\n",
              "      <td>0.000000</td>\n",
              "      <td>0.250000</td>\n",
              "      <td>1.0</td>\n",
              "      <td>1.0</td>\n",
              "      <td>1.0</td>\n",
              "      <td>1.0</td>\n",
              "      <td>0.0</td>\n",
              "      <td>5.0</td>\n",
              "    </tr>\n",
              "    <tr>\n",
              "      <th>50%</th>\n",
              "      <td>3622.500000</td>\n",
              "      <td>1960.000000</td>\n",
              "      <td>0.0</td>\n",
              "      <td>0.000000</td>\n",
              "      <td>46.000000</td>\n",
              "      <td>1161.000000</td>\n",
              "      <td>27.500000</td>\n",
              "      <td>299.000000</td>\n",
              "      <td>47.500000</td>\n",
              "      <td>55.500000</td>\n",
              "      <td>48.500000</td>\n",
              "      <td>1.000000</td>\n",
              "      <td>5.000000</td>\n",
              "      <td>8.00000</td>\n",
              "      <td>8.000000</td>\n",
              "      <td>4.000000</td>\n",
              "      <td>0.000000</td>\n",
              "      <td>1.000000</td>\n",
              "      <td>1.0</td>\n",
              "      <td>1.0</td>\n",
              "      <td>1.0</td>\n",
              "      <td>1.0</td>\n",
              "      <td>0.0</td>\n",
              "      <td>5.0</td>\n",
              "    </tr>\n",
              "    <tr>\n",
              "      <th>75%</th>\n",
              "      <td>5702.500000</td>\n",
              "      <td>1980.000000</td>\n",
              "      <td>0.0</td>\n",
              "      <td>0.000000</td>\n",
              "      <td>75.250000</td>\n",
              "      <td>1317.000000</td>\n",
              "      <td>38.000000</td>\n",
              "      <td>420.250000</td>\n",
              "      <td>65.750000</td>\n",
              "      <td>66.000000</td>\n",
              "      <td>74.750000</td>\n",
              "      <td>1.000000</td>\n",
              "      <td>6.750000</td>\n",
              "      <td>9.00000</td>\n",
              "      <td>10.000000</td>\n",
              "      <td>5.750000</td>\n",
              "      <td>0.750000</td>\n",
              "      <td>1.000000</td>\n",
              "      <td>1.0</td>\n",
              "      <td>1.0</td>\n",
              "      <td>1.0</td>\n",
              "      <td>1.0</td>\n",
              "      <td>0.0</td>\n",
              "      <td>5.0</td>\n",
              "    </tr>\n",
              "    <tr>\n",
              "      <th>max</th>\n",
              "      <td>10089.000000</td>\n",
              "      <td>1990.000000</td>\n",
              "      <td>0.0</td>\n",
              "      <td>1.000000</td>\n",
              "      <td>94.000000</td>\n",
              "      <td>1492.000000</td>\n",
              "      <td>148.000000</td>\n",
              "      <td>835.000000</td>\n",
              "      <td>106.000000</td>\n",
              "      <td>172.000000</td>\n",
              "      <td>148.000000</td>\n",
              "      <td>1.000000</td>\n",
              "      <td>10.000000</td>\n",
              "      <td>10.00000</td>\n",
              "      <td>13.000000</td>\n",
              "      <td>6.000000</td>\n",
              "      <td>1.000000</td>\n",
              "      <td>1.000000</td>\n",
              "      <td>1.0</td>\n",
              "      <td>1.0</td>\n",
              "      <td>1.0</td>\n",
              "      <td>1.0</td>\n",
              "      <td>0.0</td>\n",
              "      <td>5.0</td>\n",
              "    </tr>\n",
              "  </tbody>\n",
              "</table>\n",
              "</div>"
            ],
            "text/plain": [
              "                 ID   Year_Birth  Kidhome  ...  Response  Complain  Compras Totales\n",
              "count     10.000000    10.000000     10.0  ...      10.0      10.0             10.0\n",
              "mean    4547.100000  1967.900000      0.0  ...       1.0       0.0              5.0\n",
              "std     2991.424352    13.706851      0.0  ...       0.0       0.0              0.0\n",
              "min      477.000000  1954.000000      0.0  ...       1.0       0.0              5.0\n",
              "25%     3147.000000  1958.250000      0.0  ...       1.0       0.0              5.0\n",
              "50%     3622.500000  1960.000000      0.0  ...       1.0       0.0              5.0\n",
              "75%     5702.500000  1980.000000      0.0  ...       1.0       0.0              5.0\n",
              "max    10089.000000  1990.000000      0.0  ...       1.0       0.0              5.0\n",
              "\n",
              "[8 rows x 24 columns]"
            ]
          },
          "metadata": {
            "tags": []
          },
          "execution_count": 34
        }
      ]
    },
    {
      "cell_type": "markdown",
      "metadata": {
        "id": "awiB8wVpS9rh"
      },
      "source": [
        "Los clientes que realizaron compra por cada campaña no tienen hijos en casa, están graduados en su mayoría, no tienen reclamos y en promedio tienen 3.8 visitas a la página web."
      ]
    }
  ]
}